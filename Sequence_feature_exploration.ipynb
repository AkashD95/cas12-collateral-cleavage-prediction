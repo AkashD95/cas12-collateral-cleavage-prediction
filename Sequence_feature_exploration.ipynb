{
 "cells": [
  {
   "cell_type": "code",
   "execution_count": 2,
   "id": "f767d12e-493d-44f0-b6ec-eaba74a6d551",
   "metadata": {},
   "outputs": [],
   "source": [
    "#Import libraries required\n",
    "import pandas as pd\n",
    "import numpy as np\n",
    "from matplotlib import pyplot as plt"
   ]
  },
  {
   "cell_type": "code",
   "execution_count": 3,
   "id": "900e1b1a-fc7a-4c8f-b0be-84bc49c792ff",
   "metadata": {},
   "outputs": [],
   "source": [
    "#Load up guide RNA sequences and target DNA sequences as pandas dataframe\n",
    "df_guide_RNA = pd.read_csv(r\"C:\\Users\\dasak\\OneDrive\\Documents\\GitHub\\cas12-collateral-cleavage-prediction\\full_guide_RNA_sequences.csv\")\n",
    "df_target_DNA = pd.read_csv(r\"C:\\Users\\dasak\\OneDrive\\Documents\\GitHub\\cas12-collateral-cleavage-prediction\\target_DNA_sequences.csv\")\n",
    "df_target_DNA_reverse_complements = pd.read_csv(r\"C:\\Users\\dasak\\OneDrive\\Documents\\GitHub\\cas12-collateral-cleavage-prediction\\target_DNA_sequences_reverse_complements.csv\")\n"
   ]
  },
  {
   "cell_type": "code",
   "execution_count": 4,
   "id": "ae264cd5-c0a8-439b-9b2b-04d38698d6d8",
   "metadata": {},
   "outputs": [],
   "source": [
    "# Load k_value_sigmoid from experiment on 24_05_2022 \n",
    "from numpy import genfromtxt\n",
    "k_values = genfromtxt('k_values_sigmoid.csv', delimiter=',')"
   ]
  },
  {
   "cell_type": "code",
   "execution_count": 5,
   "id": "d7be60d3",
   "metadata": {},
   "outputs": [],
   "source": [
    "def one_hot_encode_RNA(gRNA_sequence):\n",
    "    mapping = dict(zip(\"aucg\", range(4)))    \n",
    "    one_hot_encoded_sequence = [mapping[i] for i in gRNA_sequence]\n",
    "    return np.eye(4)[one_hot_encoded_sequence]"
   ]
  },
  {
   "cell_type": "code",
   "execution_count": 6,
   "id": "2def3f84-757d-419f-ad3b-873d57d4dfb7",
   "metadata": {},
   "outputs": [],
   "source": [
    "def one_hot_encode_DNA(DNA_sequence):\n",
    "    mapping = dict(zip(\"atcg\", range(4)))    \n",
    "    one_hot_encoded_sequence = [mapping[i] for i in DNA_sequence]\n",
    "    return np.eye(4)[one_hot_encoded_sequence]"
   ]
  },
  {
   "cell_type": "code",
   "execution_count": 7,
   "id": "77125403-3659-4499-9593-474399bf9cc4",
   "metadata": {},
   "outputs": [],
   "source": [
    "from sklearn.model_selection import train_test_split\n",
    "from sklearn import tree\n",
    "from sklearn.metrics import mean_squared_error\n",
    "from scipy import stats\n",
    "\n",
    "def train_dt(input_features, outputs, input_feature_names):\n",
    "    '''\n",
    "    This function takes in input features and outputs as kvalue for an experiment. \n",
    "    It then trains a decision tree on these features.\n",
    "    \n",
    "    '''\n",
    "    input_train, input_test, output_train, output_test = train_test_split(\n",
    "        input_features, outputs, test_size=0.2, random_state=42)\n",
    "    model = tree.DecisionTreeRegressor(random_state = 42)\n",
    "    model = model.fit(input_train, output_train)\n",
    "    model_importance = pd.DataFrame({'Feature_names':input_feature_names,'Importance': model.feature_importances_})\n",
    "    output_predictions = model.predict(input_test)\n",
    "    mse = mean_squared_error(output_test, output_predictions)\n",
    "    pearson_rank_results = stats.pearsonr(output_test, output_predictions)\n",
    "    return(model_importance,mse, pearson_rank_results)\n",
    "    \n",
    "    \n",
    "    \n"
   ]
  },
  {
   "cell_type": "code",
   "execution_count": null,
   "id": "cb3264b3-775b-4507-9da9-695d6be5dcb0",
   "metadata": {},
   "outputs": [
    {
     "name": "stdout",
     "output_type": "stream",
     "text": [
      "     Feature_names  Importance\n",
      "109  guide RNA U28    0.424395\n",
      "87   guide RNA G22    0.347347\n",
      "102  guide RNA C26    0.044627\n",
      "148  guide RNA A38    0.017392\n",
      "139  guide RNA G35    0.014928\n",
      "..             ...         ...\n",
      "55   guide RNA G14    0.000000\n",
      "56   guide RNA A15    0.000000\n",
      "57   guide RNA U15    0.000000\n",
      "58   guide RNA C15    0.000000\n",
      "163  guide RNA G41    0.000000\n",
      "\n",
      "[164 rows x 2 columns]\n",
      "0.026148952604759843\n",
      "(0.30697356885981697, 0.12716325804638254)\n"
     ]
    }
   ],
   "source": [
    "#One hot encode guide RNA sequences\n",
    "guide_RNA_sequences = df_guide_RNA['Sequence']\n",
    "guide_RNA_one_hot_encoded_sequences = []\n",
    "for i in guide_RNA_sequences:\n",
    "    one_hot_encoded_sequence = one_hot_encode_RNA(i)\n",
    "    guide_RNA_one_hot_encoded_sequences.append(one_hot_encoded_sequence.ravel())\n",
    "\n",
    "#generate feature names\n",
    "feature_names_gRNA = []\n",
    "for i in range(41):\n",
    "    feature_names_gRNA.append('guide RNA A' + str(i+1))\n",
    "    feature_names_gRNA.append('guide RNA U' + str(i+1))\n",
    "    feature_names_gRNA.append('guide RNA C' + str(i+1))\n",
    "    feature_names_gRNA.append('guide RNA G' + str(i+1))\n",
    "\n",
    "dt_gRNA_model_importance = []\n",
    "dt_gRNA_mse =[]\n",
    "dt_gRNA_model_importance, dt_gRNA_mse, dt_gRNA_pearson_results = train_dt(guide_RNA_one_hot_encoded_sequences,k_values,feature_names_gRNA)\n",
    "print(dt_gRNA_model_importance.sort_values(by = 'Importance', ascending = False))\n",
    "print(dt_gRNA_mse)\n",
    "print(dt_gRNA_pearson_results)"
   ]
  },
  {
   "cell_type": "code",
   "execution_count": 8,
   "id": "576fe134-e6c5-45b6-ad5b-f26f7f4b1983",
   "metadata": {},
   "outputs": [
    {
     "name": "stdout",
     "output_type": "stream",
     "text": [
      "    Feature_names  Importance\n",
      "37  guide RNA U10    0.422723\n",
      "3    guide RNA G1    0.347708\n",
      "18   guide RNA C5    0.044627\n",
      "64  guide RNA A17    0.017488\n",
      "55  guide RNA G14    0.014928\n",
      "..            ...         ...\n",
      "50  guide RNA C13    0.000000\n",
      "51  guide RNA G13    0.000000\n",
      "54  guide RNA C14    0.000000\n",
      "10   guide RNA C3    0.000000\n",
      "79  guide RNA G20    0.000000\n",
      "\n",
      "[80 rows x 2 columns]\n",
      "0.0245816333043721\n",
      "(0.3201836447333988, 0.11079377287155823)\n"
     ]
    }
   ],
   "source": [
    "#One hot encode only the 20 gRNA bases that interact with the target DNA\n",
    "complementary_guide_RNA_sequences = []\n",
    "for i in guide_RNA_sequences:\n",
    "    complementary_guide_RNA_sequence = i[21:41]\n",
    "    complementary_guide_RNA_sequences.append(complementary_guide_RNA_sequence)\n",
    "\n",
    "#One hot encode them\n",
    "complementary_guide_RNA_one_hot_encoded_sequences = []\n",
    "for i in complementary_guide_RNA_sequences:\n",
    "    one_hot_encoded_sequence = one_hot_encode_RNA(i).ravel()\n",
    "    complementary_guide_RNA_one_hot_encoded_sequences.append(one_hot_encoded_sequence)\n",
    "\n",
    "#generate feature names\n",
    "feature_names_complementary_gRNA = []\n",
    "for i in range(20):\n",
    "    feature_names_complementary_gRNA.append('guide RNA A' + str(i+1))\n",
    "    feature_names_complementary_gRNA.append('guide RNA U' + str(i+1))\n",
    "    feature_names_complementary_gRNA.append('guide RNA C' + str(i+1))\n",
    "    feature_names_complementary_gRNA.append('guide RNA G' + str(i+1))\n",
    "\n",
    "dt_complementary_gRNA_model_importance = []\n",
    "dt_complementary_gRNA_mse =[]\n",
    "dt_complementary_gRNA_model_importance, dt_complementary_gRNA_mse, dt_complementary_gRNA_pearson_results = train_dt(complementary_guide_RNA_one_hot_encoded_sequences,k_values, feature_names_complementary_gRNA)\n",
    "print(dt_complementary_gRNA_model_importance.sort_values(by = 'Importance', ascending = False))\n",
    "print(dt_complementary_gRNA_mse)\n",
    "print(dt_complementary_gRNA_pearson_results)\n",
    "    \n",
    "    "
   ]
  },
  {
   "cell_type": "code",
   "execution_count": 9,
   "id": "3c9ca4e3-314f-48b8-91ee-44f82a61755c",
   "metadata": {},
   "outputs": [
    {
     "name": "stdout",
     "output_type": "stream",
     "text": [
      "      Feature_names  Importance\n",
      "76   target DNA A10    0.421721\n",
      "3      guide RNA G1    0.347266\n",
      "39    target DNA G5    0.044627\n",
      "128   guide RNA A17    0.017392\n",
      "107   guide RNA G14    0.014928\n",
      "..              ...         ...\n",
      "61    target DNA T8    0.000000\n",
      "59     guide RNA G8    0.000000\n",
      "55    target DNA G7    0.000000\n",
      "54    target DNA C7    0.000000\n",
      "159  target DNA G20    0.000000\n",
      "\n",
      "[160 rows x 2 columns]\n",
      "0.03286427437692059\n",
      "(0.3401300223702354, 0.08910275603369928)\n"
     ]
    }
   ],
   "source": [
    "#Try 8 bit vectors where the first 4 bits represent the guide RNA and the second 4 bits represent the target DNA. Use only the 20bp matching region to begin with.\n",
    "#Take the last twenty bases of the guide RNA sequences\n",
    "complementary_guide_RNA_sequences = []\n",
    "for i in guide_RNA_sequences:\n",
    "    complementary_guide_RNA_sequence = i[21:41]\n",
    "    complementary_guide_RNA_sequences.append(complementary_guide_RNA_sequence)\n",
    "\n",
    "#One hot encode them\n",
    "complementary_guide_RNA_one_hot_encoded_sequences = []\n",
    "for i in complementary_guide_RNA_sequences:\n",
    "    one_hot_encoded_sequence = one_hot_encode_RNA(i)\n",
    "    complementary_guide_RNA_one_hot_encoded_sequences.append(one_hot_encoded_sequence)\n",
    "\n",
    "\n",
    "#Take the middle 20 of the target complements and reorder back to fron so they become complementary to guide RNA sequence\n",
    "target_DNA_sequences = df_target_DNA['Sequence']\n",
    "target_DNA_complements = []\n",
    "complementary_target_DNA_sequences = []\n",
    "for i in target_DNA_sequences:\n",
    "    complementary_target_DNA_sequence = i[39:19:-1] #This generates the complement to the guide\n",
    "    complementary_target_DNA_sequences.append(complementary_target_DNA_sequence)\n",
    "# print(complementary_target_DNA_sequences[0])    \n",
    "\n",
    "complementary_target_DNA_one_hot_encoded_sequences = []\n",
    "for i in complementary_target_DNA_sequences:\n",
    "    one_hot_encoded_sequence = one_hot_encode_DNA(i)\n",
    "    complementary_target_DNA_one_hot_encoded_sequences.append(one_hot_encoded_sequence)\n",
    "# print(complementary_target_DNA_one_hot_encoded_sequences[0])  \n",
    "\n",
    "#Concatenate the one hot encodes sequences\n",
    "concat_complementary_guide_RNAs_target_DNAs = []\n",
    "# test with 1st element \n",
    "for i in range(len(complementary_guide_RNA_one_hot_encoded_sequences)):\n",
    "    # print(i)\n",
    "    concat_complementary_guide_RNA_target_DNA = np.hstack((complementary_guide_RNA_one_hot_encoded_sequences[i], complementary_target_DNA_one_hot_encoded_sequences[i])).ravel()\n",
    "    concat_complementary_guide_RNAs_target_DNAs.append(concat_complementary_guide_RNA_target_DNA)\n",
    "\n",
    "#Set up feature names \n",
    "feature_names_concat_guide_RNA_target_DNA = []\n",
    "for i in range(20):\n",
    "    feature_names_concat_guide_RNA_target_DNA.append('guide RNA A' + str(i+1))\n",
    "    feature_names_concat_guide_RNA_target_DNA.append('guide RNA U' + str(i+1))\n",
    "    feature_names_concat_guide_RNA_target_DNA.append('guide RNA C' + str(i+1))\n",
    "    feature_names_concat_guide_RNA_target_DNA.append('guide RNA G' + str(i+1))\n",
    "    feature_names_concat_guide_RNA_target_DNA.append('target DNA A' + str(i+1))\n",
    "    feature_names_concat_guide_RNA_target_DNA.append('target DNA T' + str(i+1))\n",
    "    feature_names_concat_guide_RNA_target_DNA.append('target DNA C' + str(i+1))\n",
    "    feature_names_concat_guide_RNA_target_DNA.append('target DNA G' + str(i+1))\n",
    "    \n",
    "dt_concat_importance=[]\n",
    "dt_concat_mse = []\n",
    "dt_concat_pearson_results = []\n",
    "dt_concat_importance, dt_concat_mse, dt_concat_pearson_results = train_dt(concat_complementary_guide_RNAs_target_DNAs, k_values, feature_names_concat_guide_RNA_target_DNA)\n",
    "print(dt_concat_importance.sort_values(by = 'Importance', ascending = False))\n",
    "print(dt_concat_mse)\n",
    "print(dt_concat_pearson_results)\n"
   ]
  },
  {
   "cell_type": "code",
   "execution_count": 10,
   "id": "c3ab8f36-07b8-4720-9bad-2d9f6c16541a",
   "metadata": {},
   "outputs": [
    {
     "name": "stdout",
     "output_type": "stream",
     "text": [
      "      Feature_names  Importance\n",
      "66     guide RNA C9    0.762854\n",
      "28    target DNA A4    0.054117\n",
      "169   guide RNA U22    0.018290\n",
      "70    target DNA C9    0.017698\n",
      "58     guide RNA C8    0.015042\n",
      "..              ...         ...\n",
      "72    guide RNA A10    0.000000\n",
      "73    guide RNA U10    0.000000\n",
      "74    guide RNA C10    0.000000\n",
      "77   target DNA T10    0.000000\n",
      "191  target DNA G24    0.000000\n",
      "\n",
      "[192 rows x 2 columns]\n",
      "0.5885813305715738\n",
      "(0.046399917925027845, 0.8219177954795238)\n"
     ]
    }
   ],
   "source": [
    "#Add context dependency of 4 bp either side of the target DNA. This represents the PAM site\n",
    "#Make a array of zeros to add to either side of the gRNA one hot encoded sequence. This signifies the area around\n",
    "#the target DNA where the gRNA should (hopefully!)not bind.\n",
    "\n",
    "zeros = np.zeros((4,4))\n",
    "pam_included_guide_RNA_one_hot_encoded_sequence = []\n",
    "pam_included_guide_RNA_one_hot_encoded_sequences = []\n",
    "for i in complementary_guide_RNA_sequences:\n",
    "    pam_included_guide_RNA_one_hot_encoded_sequence = np.vstack((zeros,one_hot_encode_RNA(i)))\n",
    "    pam_included_guide_RNA_one_hot_encoded_sequences.append(pam_included_guide_RNA_one_hot_encoded_sequence)\n",
    "\n",
    "#one hot encode full 60 bp target DNA sequence so that they line up as complement to the gRNA sequence \n",
    "#with context included\n",
    "\n",
    "pam_included_target_DNA_sequence = []\n",
    "pam_included_target_DNA_sequences = []\n",
    "for i in target_DNA_sequences:\n",
    "    pam_included_target_DNA_sequence = i[43:19:-1] #This generates the complement to the guide\n",
    "    pam_included_target_DNA_sequences.append(pam_included_target_DNA_sequence)\n",
    "\n",
    "pam_included_target_DNA_one_hot_encoded_sequences = []\n",
    "for i in pam_included_target_DNA_sequences:\n",
    "    one_hot_encoded_sequence = one_hot_encode_DNA(i)\n",
    "    pam_included_target_DNA_one_hot_encoded_sequences.append(one_hot_encoded_sequence)\n",
    "\n",
    "    \n",
    "# Concatenate the one hot encodes sequences\n",
    "concat_pam_included_guide_RNA_target_DNA = []\n",
    "concat_pam_included_guide_RNAs_target_DNAs = []\n",
    "for i in range(len(pam_included_target_DNA_one_hot_encoded_sequences)):\n",
    "    concat_pam_included_guide_RNA_target_DNA = np.hstack((pam_included_guide_RNA_one_hot_encoded_sequences[i], pam_included_target_DNA_one_hot_encoded_sequences[i])).ravel()\n",
    "    concat_pam_included_guide_RNAs_target_DNAs.append(concat_pam_included_guide_RNA_target_DNA)\n",
    "\n",
    "# #Add feature names. Note guide RNA 1-4 denote non pairing as no binding should happen there\n",
    "feature_names_pam_included_guide_RNA_target_DNA = []\n",
    "for i in range(24):\n",
    "    feature_names_pam_included_guide_RNA_target_DNA.append('guide RNA A' + str(i+1))\n",
    "    feature_names_pam_included_guide_RNA_target_DNA.append('guide RNA U' + str(i+1))\n",
    "    feature_names_pam_included_guide_RNA_target_DNA.append('guide RNA C' + str(i+1))\n",
    "    feature_names_pam_included_guide_RNA_target_DNA.append('guide RNA G' + str(i+1))\n",
    "    feature_names_pam_included_guide_RNA_target_DNA.append('target DNA A' + str(i+1))\n",
    "    feature_names_pam_included_guide_RNA_target_DNA.append('target DNA T' + str(i+1))\n",
    "    feature_names_pam_included_guide_RNA_target_DNA.append('target DNA C' + str(i+1))\n",
    "    feature_names_pam_included_guide_RNA_target_DNA.append('target DNA G' + str(i+1))\n",
    "\n",
    "\n",
    "\n",
    "# #Train the dt \n",
    "dt_pam_included_importance=[]\n",
    "dt_pam_included_mse = []\n",
    "dt_pam_included_pearson_results = []\n",
    "dt_pam_included_importance, dt_pam_included_mse, dt_pam_included_pearson_results = train_dt(concat_pam_included_guide_RNAs_target_DNAs, k_values, feature_names_pam_included_guide_RNA_target_DNA)\n",
    "print(dt_pam_included_importance.sort_values(by = 'Importance', ascending = False))\n",
    "print(dt_pam_included_mse)\n",
    "print(dt_pam_included_pearson_results)"
   ]
  },
  {
   "cell_type": "code",
   "execution_count": 11,
   "id": "91a7a9c3-673a-446f-969b-36aa74e3dae8",
   "metadata": {},
   "outputs": [
    {
     "name": "stdout",
     "output_type": "stream",
     "text": [
      "      Feature_names  Importance\n",
      "194   guide RNA C25    0.762849\n",
      "156  target DNA A20    0.054117\n",
      "444  target DNA A56    0.022017\n",
      "111  target DNA G14    0.021852\n",
      "45    target DNA T6    0.020581\n",
      "..              ...         ...\n",
      "161   guide RNA U21    0.000000\n",
      "160   guide RNA A21    0.000000\n",
      "159  target DNA G20    0.000000\n",
      "158  target DNA C20    0.000000\n",
      "479  target DNA G60    0.000000\n",
      "\n",
      "[480 rows x 2 columns]\n",
      "0.6207887504580195\n",
      "(-0.018229029783011427, 0.9295699993364074)\n"
     ]
    }
   ],
   "source": [
    "#Add context dependency of 20 bp either side of the target DNA\n",
    "#Make a array of zeros to add to either side of the gRNA one hot encoded sequence. This signifies the area around\n",
    "#the target DNA where the gRNA should (hopefully!) not bind.\n",
    "zeros = np.zeros((20,4))\n",
    "context_included_guide_RNA_one_hot_encoded_sequence = []\n",
    "context_included_guide_RNA_one_hot_encoded_sequences = []\n",
    "for i in complementary_guide_RNA_sequences:\n",
    "    context_included_guide_RNA_one_hot_encoded_sequence = np.vstack((zeros,one_hot_encode_RNA(i),zeros))\n",
    "    context_included_guide_RNA_one_hot_encoded_sequences.append(context_included_guide_RNA_one_hot_encoded_sequence)\n",
    "\n",
    "#one hot encode full 60 bp target DNA sequence so that they line up as complement to the gRNA sequence with context\n",
    "# included\n",
    "\n",
    "len(target_DNA_sequences[0])\n",
    "\n",
    "full_target_DNA_sequence = []\n",
    "full_target_DNA_sequences = []\n",
    "for i in target_DNA_sequences:\n",
    "    full_target_DNA_sequence = i[::-1] #This generates the complement to the guide\n",
    "    full_target_DNA_sequences.append(full_target_DNA_sequence)\n",
    "\n",
    "full_target_DNA_one_hot_encoded_sequences = []\n",
    "for i in full_target_DNA_sequences:\n",
    "    one_hot_encoded_sequence = one_hot_encode_DNA(i)\n",
    "    full_target_DNA_one_hot_encoded_sequences.append(one_hot_encoded_sequence)\n",
    "\n",
    "    \n",
    "# Concatenate the one hot encodes sequences\n",
    "concat_context_included_guide_RNA_target_DNA = []\n",
    "concat_context_included_guide_RNAs_target_DNAs = []\n",
    "for i in range(len(full_target_DNA_one_hot_encoded_sequences)):\n",
    "    concat_context_included_guide_RNA_target_DNA = np.hstack((context_included_guide_RNA_one_hot_encoded_sequences[i], full_target_DNA_one_hot_encoded_sequences[i])).ravel()\n",
    "    concat_context_included_guide_RNAs_target_DNAs.append(concat_context_included_guide_RNA_target_DNA)\n",
    "\n",
    "#Add feature names. Note guide RNA 1-20 and 41-60 denote non pairing as no binding should happen there\n",
    "feature_names_context_included_guide_RNA_target_DNA = []\n",
    "for i in range(60):\n",
    "    feature_names_context_included_guide_RNA_target_DNA.append('guide RNA A' + str(i+1))\n",
    "    feature_names_context_included_guide_RNA_target_DNA.append('guide RNA U' + str(i+1))\n",
    "    feature_names_context_included_guide_RNA_target_DNA.append('guide RNA C' + str(i+1))\n",
    "    feature_names_context_included_guide_RNA_target_DNA.append('guide RNA G' + str(i+1))\n",
    "    feature_names_context_included_guide_RNA_target_DNA.append('target DNA A' + str(i+1))\n",
    "    feature_names_context_included_guide_RNA_target_DNA.append('target DNA T' + str(i+1))\n",
    "    feature_names_context_included_guide_RNA_target_DNA.append('target DNA C' + str(i+1))\n",
    "    feature_names_context_included_guide_RNA_target_DNA.append('target DNA G' + str(i+1))\n",
    "\n",
    "\n",
    "\n",
    "#Train the dt \n",
    "dt_context_included_importance=[]\n",
    "dt_context_included_mse = []\n",
    "dt_context_included_pearson_results = []\n",
    "dt_context_included_importance, dt_context_included_mse, dt_context_included_pearson_results = train_dt(concat_context_included_guide_RNAs_target_DNAs, k_values, feature_names_context_included_guide_RNA_target_DNA)\n",
    "print(dt_context_included_importance.sort_values(by = 'Importance', ascending = False))\n",
    "print(dt_context_included_mse)\n",
    "print(dt_context_included_pearson_results)"
   ]
  },
  {
   "cell_type": "code",
   "execution_count": 14,
   "id": "53a498c3-c89a-4a58-9d08-b94ac850a4e8",
   "metadata": {},
   "outputs": [
    {
     "data": {
      "application/vnd.plotly.v1+json": {
       "config": {
        "plotlyServerURL": "https://plot.ly"
       },
       "data": [
        {
         "type": "bar",
         "x": [
          "Full sequence guide RNA",
          "Target DNA-complementary guide RNA sequence",
          "Target DNA-complementary guide RNA and guide RNA-complementary target DNA",
          "Target DNA-complementary guide RNA and guide RNA-complementary target DNA (PAM included]",
          "Target DNA-complementary guide RNA and guide RNA-complementary target DNA (Full included)"
         ],
         "xaxis": "x",
         "y": [
          0.026148952604759843,
          0.0245816333043721,
          0.03286427437692059,
          0.5885813305715738,
          0.6207887504580195
         ],
         "yaxis": "y"
        },
        {
         "type": "bar",
         "x": [
          "Full sequence guide RNA",
          "Target DNA-complementary guide RNA sequence",
          "Target DNA-complementary guide RNA and guide RNA-complementary target DNA",
          "Target DNA-complementary guide RNA and guide RNA-complementary target DNA (PAM included]",
          "Target DNA-complementary guide RNA and guide RNA-complementary target DNA (Full included)"
         ],
         "xaxis": "x2",
         "y": [
          0.30697356885981697,
          0.3201836447333988,
          0.3401300223702354,
          0.046399917925027845,
          -0.018229029783011427
         ],
         "yaxis": "y2"
        }
       ],
       "layout": {
        "height": 1000,
        "plot_bgcolor": "white",
        "showlegend": false,
        "template": {
         "data": {
          "bar": [
           {
            "error_x": {
             "color": "#2a3f5f"
            },
            "error_y": {
             "color": "#2a3f5f"
            },
            "marker": {
             "line": {
              "color": "#E5ECF6",
              "width": 0.5
             },
             "pattern": {
              "fillmode": "overlay",
              "size": 10,
              "solidity": 0.2
             }
            },
            "type": "bar"
           }
          ],
          "barpolar": [
           {
            "marker": {
             "line": {
              "color": "#E5ECF6",
              "width": 0.5
             },
             "pattern": {
              "fillmode": "overlay",
              "size": 10,
              "solidity": 0.2
             }
            },
            "type": "barpolar"
           }
          ],
          "carpet": [
           {
            "aaxis": {
             "endlinecolor": "#2a3f5f",
             "gridcolor": "white",
             "linecolor": "white",
             "minorgridcolor": "white",
             "startlinecolor": "#2a3f5f"
            },
            "baxis": {
             "endlinecolor": "#2a3f5f",
             "gridcolor": "white",
             "linecolor": "white",
             "minorgridcolor": "white",
             "startlinecolor": "#2a3f5f"
            },
            "type": "carpet"
           }
          ],
          "choropleth": [
           {
            "colorbar": {
             "outlinewidth": 0,
             "ticks": ""
            },
            "type": "choropleth"
           }
          ],
          "contour": [
           {
            "colorbar": {
             "outlinewidth": 0,
             "ticks": ""
            },
            "colorscale": [
             [
              0,
              "#0d0887"
             ],
             [
              0.1111111111111111,
              "#46039f"
             ],
             [
              0.2222222222222222,
              "#7201a8"
             ],
             [
              0.3333333333333333,
              "#9c179e"
             ],
             [
              0.4444444444444444,
              "#bd3786"
             ],
             [
              0.5555555555555556,
              "#d8576b"
             ],
             [
              0.6666666666666666,
              "#ed7953"
             ],
             [
              0.7777777777777778,
              "#fb9f3a"
             ],
             [
              0.8888888888888888,
              "#fdca26"
             ],
             [
              1,
              "#f0f921"
             ]
            ],
            "type": "contour"
           }
          ],
          "contourcarpet": [
           {
            "colorbar": {
             "outlinewidth": 0,
             "ticks": ""
            },
            "type": "contourcarpet"
           }
          ],
          "heatmap": [
           {
            "colorbar": {
             "outlinewidth": 0,
             "ticks": ""
            },
            "colorscale": [
             [
              0,
              "#0d0887"
             ],
             [
              0.1111111111111111,
              "#46039f"
             ],
             [
              0.2222222222222222,
              "#7201a8"
             ],
             [
              0.3333333333333333,
              "#9c179e"
             ],
             [
              0.4444444444444444,
              "#bd3786"
             ],
             [
              0.5555555555555556,
              "#d8576b"
             ],
             [
              0.6666666666666666,
              "#ed7953"
             ],
             [
              0.7777777777777778,
              "#fb9f3a"
             ],
             [
              0.8888888888888888,
              "#fdca26"
             ],
             [
              1,
              "#f0f921"
             ]
            ],
            "type": "heatmap"
           }
          ],
          "heatmapgl": [
           {
            "colorbar": {
             "outlinewidth": 0,
             "ticks": ""
            },
            "colorscale": [
             [
              0,
              "#0d0887"
             ],
             [
              0.1111111111111111,
              "#46039f"
             ],
             [
              0.2222222222222222,
              "#7201a8"
             ],
             [
              0.3333333333333333,
              "#9c179e"
             ],
             [
              0.4444444444444444,
              "#bd3786"
             ],
             [
              0.5555555555555556,
              "#d8576b"
             ],
             [
              0.6666666666666666,
              "#ed7953"
             ],
             [
              0.7777777777777778,
              "#fb9f3a"
             ],
             [
              0.8888888888888888,
              "#fdca26"
             ],
             [
              1,
              "#f0f921"
             ]
            ],
            "type": "heatmapgl"
           }
          ],
          "histogram": [
           {
            "marker": {
             "pattern": {
              "fillmode": "overlay",
              "size": 10,
              "solidity": 0.2
             }
            },
            "type": "histogram"
           }
          ],
          "histogram2d": [
           {
            "colorbar": {
             "outlinewidth": 0,
             "ticks": ""
            },
            "colorscale": [
             [
              0,
              "#0d0887"
             ],
             [
              0.1111111111111111,
              "#46039f"
             ],
             [
              0.2222222222222222,
              "#7201a8"
             ],
             [
              0.3333333333333333,
              "#9c179e"
             ],
             [
              0.4444444444444444,
              "#bd3786"
             ],
             [
              0.5555555555555556,
              "#d8576b"
             ],
             [
              0.6666666666666666,
              "#ed7953"
             ],
             [
              0.7777777777777778,
              "#fb9f3a"
             ],
             [
              0.8888888888888888,
              "#fdca26"
             ],
             [
              1,
              "#f0f921"
             ]
            ],
            "type": "histogram2d"
           }
          ],
          "histogram2dcontour": [
           {
            "colorbar": {
             "outlinewidth": 0,
             "ticks": ""
            },
            "colorscale": [
             [
              0,
              "#0d0887"
             ],
             [
              0.1111111111111111,
              "#46039f"
             ],
             [
              0.2222222222222222,
              "#7201a8"
             ],
             [
              0.3333333333333333,
              "#9c179e"
             ],
             [
              0.4444444444444444,
              "#bd3786"
             ],
             [
              0.5555555555555556,
              "#d8576b"
             ],
             [
              0.6666666666666666,
              "#ed7953"
             ],
             [
              0.7777777777777778,
              "#fb9f3a"
             ],
             [
              0.8888888888888888,
              "#fdca26"
             ],
             [
              1,
              "#f0f921"
             ]
            ],
            "type": "histogram2dcontour"
           }
          ],
          "mesh3d": [
           {
            "colorbar": {
             "outlinewidth": 0,
             "ticks": ""
            },
            "type": "mesh3d"
           }
          ],
          "parcoords": [
           {
            "line": {
             "colorbar": {
              "outlinewidth": 0,
              "ticks": ""
             }
            },
            "type": "parcoords"
           }
          ],
          "pie": [
           {
            "automargin": true,
            "type": "pie"
           }
          ],
          "scatter": [
           {
            "marker": {
             "colorbar": {
              "outlinewidth": 0,
              "ticks": ""
             }
            },
            "type": "scatter"
           }
          ],
          "scatter3d": [
           {
            "line": {
             "colorbar": {
              "outlinewidth": 0,
              "ticks": ""
             }
            },
            "marker": {
             "colorbar": {
              "outlinewidth": 0,
              "ticks": ""
             }
            },
            "type": "scatter3d"
           }
          ],
          "scattercarpet": [
           {
            "marker": {
             "colorbar": {
              "outlinewidth": 0,
              "ticks": ""
             }
            },
            "type": "scattercarpet"
           }
          ],
          "scattergeo": [
           {
            "marker": {
             "colorbar": {
              "outlinewidth": 0,
              "ticks": ""
             }
            },
            "type": "scattergeo"
           }
          ],
          "scattergl": [
           {
            "marker": {
             "colorbar": {
              "outlinewidth": 0,
              "ticks": ""
             }
            },
            "type": "scattergl"
           }
          ],
          "scattermapbox": [
           {
            "marker": {
             "colorbar": {
              "outlinewidth": 0,
              "ticks": ""
             }
            },
            "type": "scattermapbox"
           }
          ],
          "scatterpolar": [
           {
            "marker": {
             "colorbar": {
              "outlinewidth": 0,
              "ticks": ""
             }
            },
            "type": "scatterpolar"
           }
          ],
          "scatterpolargl": [
           {
            "marker": {
             "colorbar": {
              "outlinewidth": 0,
              "ticks": ""
             }
            },
            "type": "scatterpolargl"
           }
          ],
          "scatterternary": [
           {
            "marker": {
             "colorbar": {
              "outlinewidth": 0,
              "ticks": ""
             }
            },
            "type": "scatterternary"
           }
          ],
          "surface": [
           {
            "colorbar": {
             "outlinewidth": 0,
             "ticks": ""
            },
            "colorscale": [
             [
              0,
              "#0d0887"
             ],
             [
              0.1111111111111111,
              "#46039f"
             ],
             [
              0.2222222222222222,
              "#7201a8"
             ],
             [
              0.3333333333333333,
              "#9c179e"
             ],
             [
              0.4444444444444444,
              "#bd3786"
             ],
             [
              0.5555555555555556,
              "#d8576b"
             ],
             [
              0.6666666666666666,
              "#ed7953"
             ],
             [
              0.7777777777777778,
              "#fb9f3a"
             ],
             [
              0.8888888888888888,
              "#fdca26"
             ],
             [
              1,
              "#f0f921"
             ]
            ],
            "type": "surface"
           }
          ],
          "table": [
           {
            "cells": {
             "fill": {
              "color": "#EBF0F8"
             },
             "line": {
              "color": "white"
             }
            },
            "header": {
             "fill": {
              "color": "#C8D4E3"
             },
             "line": {
              "color": "white"
             }
            },
            "type": "table"
           }
          ]
         },
         "layout": {
          "annotationdefaults": {
           "arrowcolor": "#2a3f5f",
           "arrowhead": 0,
           "arrowwidth": 1
          },
          "autotypenumbers": "strict",
          "coloraxis": {
           "colorbar": {
            "outlinewidth": 0,
            "ticks": ""
           }
          },
          "colorscale": {
           "diverging": [
            [
             0,
             "#8e0152"
            ],
            [
             0.1,
             "#c51b7d"
            ],
            [
             0.2,
             "#de77ae"
            ],
            [
             0.3,
             "#f1b6da"
            ],
            [
             0.4,
             "#fde0ef"
            ],
            [
             0.5,
             "#f7f7f7"
            ],
            [
             0.6,
             "#e6f5d0"
            ],
            [
             0.7,
             "#b8e186"
            ],
            [
             0.8,
             "#7fbc41"
            ],
            [
             0.9,
             "#4d9221"
            ],
            [
             1,
             "#276419"
            ]
           ],
           "sequential": [
            [
             0,
             "#0d0887"
            ],
            [
             0.1111111111111111,
             "#46039f"
            ],
            [
             0.2222222222222222,
             "#7201a8"
            ],
            [
             0.3333333333333333,
             "#9c179e"
            ],
            [
             0.4444444444444444,
             "#bd3786"
            ],
            [
             0.5555555555555556,
             "#d8576b"
            ],
            [
             0.6666666666666666,
             "#ed7953"
            ],
            [
             0.7777777777777778,
             "#fb9f3a"
            ],
            [
             0.8888888888888888,
             "#fdca26"
            ],
            [
             1,
             "#f0f921"
            ]
           ],
           "sequentialminus": [
            [
             0,
             "#0d0887"
            ],
            [
             0.1111111111111111,
             "#46039f"
            ],
            [
             0.2222222222222222,
             "#7201a8"
            ],
            [
             0.3333333333333333,
             "#9c179e"
            ],
            [
             0.4444444444444444,
             "#bd3786"
            ],
            [
             0.5555555555555556,
             "#d8576b"
            ],
            [
             0.6666666666666666,
             "#ed7953"
            ],
            [
             0.7777777777777778,
             "#fb9f3a"
            ],
            [
             0.8888888888888888,
             "#fdca26"
            ],
            [
             1,
             "#f0f921"
            ]
           ]
          },
          "colorway": [
           "#636efa",
           "#EF553B",
           "#00cc96",
           "#ab63fa",
           "#FFA15A",
           "#19d3f3",
           "#FF6692",
           "#B6E880",
           "#FF97FF",
           "#FECB52"
          ],
          "font": {
           "color": "#2a3f5f"
          },
          "geo": {
           "bgcolor": "white",
           "lakecolor": "white",
           "landcolor": "#E5ECF6",
           "showlakes": true,
           "showland": true,
           "subunitcolor": "white"
          },
          "hoverlabel": {
           "align": "left"
          },
          "hovermode": "closest",
          "mapbox": {
           "style": "light"
          },
          "paper_bgcolor": "white",
          "plot_bgcolor": "#E5ECF6",
          "polar": {
           "angularaxis": {
            "gridcolor": "white",
            "linecolor": "white",
            "ticks": ""
           },
           "bgcolor": "#E5ECF6",
           "radialaxis": {
            "gridcolor": "white",
            "linecolor": "white",
            "ticks": ""
           }
          },
          "scene": {
           "xaxis": {
            "backgroundcolor": "#E5ECF6",
            "gridcolor": "white",
            "gridwidth": 2,
            "linecolor": "white",
            "showbackground": true,
            "ticks": "",
            "zerolinecolor": "white"
           },
           "yaxis": {
            "backgroundcolor": "#E5ECF6",
            "gridcolor": "white",
            "gridwidth": 2,
            "linecolor": "white",
            "showbackground": true,
            "ticks": "",
            "zerolinecolor": "white"
           },
           "zaxis": {
            "backgroundcolor": "#E5ECF6",
            "gridcolor": "white",
            "gridwidth": 2,
            "linecolor": "white",
            "showbackground": true,
            "ticks": "",
            "zerolinecolor": "white"
           }
          },
          "shapedefaults": {
           "line": {
            "color": "#2a3f5f"
           }
          },
          "ternary": {
           "aaxis": {
            "gridcolor": "white",
            "linecolor": "white",
            "ticks": ""
           },
           "baxis": {
            "gridcolor": "white",
            "linecolor": "white",
            "ticks": ""
           },
           "bgcolor": "#E5ECF6",
           "caxis": {
            "gridcolor": "white",
            "linecolor": "white",
            "ticks": ""
           }
          },
          "title": {
           "x": 0.05
          },
          "xaxis": {
           "automargin": true,
           "gridcolor": "white",
           "linecolor": "white",
           "ticks": "",
           "title": {
            "standoff": 15
           },
           "zerolinecolor": "white",
           "zerolinewidth": 2
          },
          "yaxis": {
           "automargin": true,
           "gridcolor": "white",
           "linecolor": "white",
           "ticks": "",
           "title": {
            "standoff": 15
           },
           "zerolinecolor": "white",
           "zerolinewidth": 2
          }
         }
        },
        "width": 5000,
        "xaxis": {
         "anchor": "y",
         "autorange": true,
         "domain": [
          0,
          1
         ],
         "range": [
          -0.5,
          4.5
         ],
         "tickangle": 0,
         "tickfont": {
          "size": 16
         },
         "type": "category"
        },
        "xaxis2": {
         "anchor": "y2",
         "autorange": true,
         "domain": [
          0,
          1
         ],
         "range": [
          -0.5,
          4.5
         ],
         "tickangle": 0,
         "tickfont": {
          "size": 16
         },
         "type": "category"
        },
        "yaxis": {
         "anchor": "x",
         "autorange": true,
         "domain": [
          0.575,
          1
         ],
         "range": [
          0,
          0.6534618425873889
         ],
         "title": {
          "text": "Mean squared error"
         },
         "type": "linear"
        },
        "yaxis2": {
         "anchor": "x2",
         "autorange": true,
         "domain": [
          0,
          0.425
         ],
         "range": [
          -0.038137866013747364,
          0.3600388586009713
         ],
         "title": {
          "text": "Pearson correlation coefficient"
         },
         "type": "linear"
        }
       }
      },
      "text/html": [
       "<div>                            <div id=\"30342c28-b836-47de-92ea-6cc4763c58a9\" class=\"plotly-graph-div\" style=\"height:1000px; width:5000px;\"></div>            <script type=\"text/javascript\">                require([\"plotly\"], function(Plotly) {                    window.PLOTLYENV=window.PLOTLYENV || {};                                    if (document.getElementById(\"30342c28-b836-47de-92ea-6cc4763c58a9\")) {                    Plotly.newPlot(                        \"30342c28-b836-47de-92ea-6cc4763c58a9\",                        [{\"x\":[\"Full sequence guide RNA\",\"Target DNA-complementary guide RNA sequence\",\"Target DNA-complementary guide RNA and guide RNA-complementary target DNA\",\"Target DNA-complementary guide RNA and guide RNA-complementary target DNA (PAM included]\",\"Target DNA-complementary guide RNA and guide RNA-complementary target DNA (Full included)\"],\"y\":[0.026148952604759843,0.0245816333043721,0.03286427437692059,0.5885813305715738,0.6207887504580195],\"type\":\"bar\",\"xaxis\":\"x\",\"yaxis\":\"y\"},{\"x\":[\"Full sequence guide RNA\",\"Target DNA-complementary guide RNA sequence\",\"Target DNA-complementary guide RNA and guide RNA-complementary target DNA\",\"Target DNA-complementary guide RNA and guide RNA-complementary target DNA (PAM included]\",\"Target DNA-complementary guide RNA and guide RNA-complementary target DNA (Full included)\"],\"y\":[0.30697356885981697,0.3201836447333988,0.3401300223702354,0.046399917925027845,-0.018229029783011427],\"type\":\"bar\",\"xaxis\":\"x2\",\"yaxis\":\"y2\"}],                        {\"template\":{\"data\":{\"bar\":[{\"error_x\":{\"color\":\"#2a3f5f\"},\"error_y\":{\"color\":\"#2a3f5f\"},\"marker\":{\"line\":{\"color\":\"#E5ECF6\",\"width\":0.5},\"pattern\":{\"fillmode\":\"overlay\",\"size\":10,\"solidity\":0.2}},\"type\":\"bar\"}],\"barpolar\":[{\"marker\":{\"line\":{\"color\":\"#E5ECF6\",\"width\":0.5},\"pattern\":{\"fillmode\":\"overlay\",\"size\":10,\"solidity\":0.2}},\"type\":\"barpolar\"}],\"carpet\":[{\"aaxis\":{\"endlinecolor\":\"#2a3f5f\",\"gridcolor\":\"white\",\"linecolor\":\"white\",\"minorgridcolor\":\"white\",\"startlinecolor\":\"#2a3f5f\"},\"baxis\":{\"endlinecolor\":\"#2a3f5f\",\"gridcolor\":\"white\",\"linecolor\":\"white\",\"minorgridcolor\":\"white\",\"startlinecolor\":\"#2a3f5f\"},\"type\":\"carpet\"}],\"choropleth\":[{\"colorbar\":{\"outlinewidth\":0,\"ticks\":\"\"},\"type\":\"choropleth\"}],\"contour\":[{\"colorbar\":{\"outlinewidth\":0,\"ticks\":\"\"},\"colorscale\":[[0.0,\"#0d0887\"],[0.1111111111111111,\"#46039f\"],[0.2222222222222222,\"#7201a8\"],[0.3333333333333333,\"#9c179e\"],[0.4444444444444444,\"#bd3786\"],[0.5555555555555556,\"#d8576b\"],[0.6666666666666666,\"#ed7953\"],[0.7777777777777778,\"#fb9f3a\"],[0.8888888888888888,\"#fdca26\"],[1.0,\"#f0f921\"]],\"type\":\"contour\"}],\"contourcarpet\":[{\"colorbar\":{\"outlinewidth\":0,\"ticks\":\"\"},\"type\":\"contourcarpet\"}],\"heatmap\":[{\"colorbar\":{\"outlinewidth\":0,\"ticks\":\"\"},\"colorscale\":[[0.0,\"#0d0887\"],[0.1111111111111111,\"#46039f\"],[0.2222222222222222,\"#7201a8\"],[0.3333333333333333,\"#9c179e\"],[0.4444444444444444,\"#bd3786\"],[0.5555555555555556,\"#d8576b\"],[0.6666666666666666,\"#ed7953\"],[0.7777777777777778,\"#fb9f3a\"],[0.8888888888888888,\"#fdca26\"],[1.0,\"#f0f921\"]],\"type\":\"heatmap\"}],\"heatmapgl\":[{\"colorbar\":{\"outlinewidth\":0,\"ticks\":\"\"},\"colorscale\":[[0.0,\"#0d0887\"],[0.1111111111111111,\"#46039f\"],[0.2222222222222222,\"#7201a8\"],[0.3333333333333333,\"#9c179e\"],[0.4444444444444444,\"#bd3786\"],[0.5555555555555556,\"#d8576b\"],[0.6666666666666666,\"#ed7953\"],[0.7777777777777778,\"#fb9f3a\"],[0.8888888888888888,\"#fdca26\"],[1.0,\"#f0f921\"]],\"type\":\"heatmapgl\"}],\"histogram\":[{\"marker\":{\"pattern\":{\"fillmode\":\"overlay\",\"size\":10,\"solidity\":0.2}},\"type\":\"histogram\"}],\"histogram2d\":[{\"colorbar\":{\"outlinewidth\":0,\"ticks\":\"\"},\"colorscale\":[[0.0,\"#0d0887\"],[0.1111111111111111,\"#46039f\"],[0.2222222222222222,\"#7201a8\"],[0.3333333333333333,\"#9c179e\"],[0.4444444444444444,\"#bd3786\"],[0.5555555555555556,\"#d8576b\"],[0.6666666666666666,\"#ed7953\"],[0.7777777777777778,\"#fb9f3a\"],[0.8888888888888888,\"#fdca26\"],[1.0,\"#f0f921\"]],\"type\":\"histogram2d\"}],\"histogram2dcontour\":[{\"colorbar\":{\"outlinewidth\":0,\"ticks\":\"\"},\"colorscale\":[[0.0,\"#0d0887\"],[0.1111111111111111,\"#46039f\"],[0.2222222222222222,\"#7201a8\"],[0.3333333333333333,\"#9c179e\"],[0.4444444444444444,\"#bd3786\"],[0.5555555555555556,\"#d8576b\"],[0.6666666666666666,\"#ed7953\"],[0.7777777777777778,\"#fb9f3a\"],[0.8888888888888888,\"#fdca26\"],[1.0,\"#f0f921\"]],\"type\":\"histogram2dcontour\"}],\"mesh3d\":[{\"colorbar\":{\"outlinewidth\":0,\"ticks\":\"\"},\"type\":\"mesh3d\"}],\"parcoords\":[{\"line\":{\"colorbar\":{\"outlinewidth\":0,\"ticks\":\"\"}},\"type\":\"parcoords\"}],\"pie\":[{\"automargin\":true,\"type\":\"pie\"}],\"scatter\":[{\"marker\":{\"colorbar\":{\"outlinewidth\":0,\"ticks\":\"\"}},\"type\":\"scatter\"}],\"scatter3d\":[{\"line\":{\"colorbar\":{\"outlinewidth\":0,\"ticks\":\"\"}},\"marker\":{\"colorbar\":{\"outlinewidth\":0,\"ticks\":\"\"}},\"type\":\"scatter3d\"}],\"scattercarpet\":[{\"marker\":{\"colorbar\":{\"outlinewidth\":0,\"ticks\":\"\"}},\"type\":\"scattercarpet\"}],\"scattergeo\":[{\"marker\":{\"colorbar\":{\"outlinewidth\":0,\"ticks\":\"\"}},\"type\":\"scattergeo\"}],\"scattergl\":[{\"marker\":{\"colorbar\":{\"outlinewidth\":0,\"ticks\":\"\"}},\"type\":\"scattergl\"}],\"scattermapbox\":[{\"marker\":{\"colorbar\":{\"outlinewidth\":0,\"ticks\":\"\"}},\"type\":\"scattermapbox\"}],\"scatterpolar\":[{\"marker\":{\"colorbar\":{\"outlinewidth\":0,\"ticks\":\"\"}},\"type\":\"scatterpolar\"}],\"scatterpolargl\":[{\"marker\":{\"colorbar\":{\"outlinewidth\":0,\"ticks\":\"\"}},\"type\":\"scatterpolargl\"}],\"scatterternary\":[{\"marker\":{\"colorbar\":{\"outlinewidth\":0,\"ticks\":\"\"}},\"type\":\"scatterternary\"}],\"surface\":[{\"colorbar\":{\"outlinewidth\":0,\"ticks\":\"\"},\"colorscale\":[[0.0,\"#0d0887\"],[0.1111111111111111,\"#46039f\"],[0.2222222222222222,\"#7201a8\"],[0.3333333333333333,\"#9c179e\"],[0.4444444444444444,\"#bd3786\"],[0.5555555555555556,\"#d8576b\"],[0.6666666666666666,\"#ed7953\"],[0.7777777777777778,\"#fb9f3a\"],[0.8888888888888888,\"#fdca26\"],[1.0,\"#f0f921\"]],\"type\":\"surface\"}],\"table\":[{\"cells\":{\"fill\":{\"color\":\"#EBF0F8\"},\"line\":{\"color\":\"white\"}},\"header\":{\"fill\":{\"color\":\"#C8D4E3\"},\"line\":{\"color\":\"white\"}},\"type\":\"table\"}]},\"layout\":{\"annotationdefaults\":{\"arrowcolor\":\"#2a3f5f\",\"arrowhead\":0,\"arrowwidth\":1},\"autotypenumbers\":\"strict\",\"coloraxis\":{\"colorbar\":{\"outlinewidth\":0,\"ticks\":\"\"}},\"colorscale\":{\"diverging\":[[0,\"#8e0152\"],[0.1,\"#c51b7d\"],[0.2,\"#de77ae\"],[0.3,\"#f1b6da\"],[0.4,\"#fde0ef\"],[0.5,\"#f7f7f7\"],[0.6,\"#e6f5d0\"],[0.7,\"#b8e186\"],[0.8,\"#7fbc41\"],[0.9,\"#4d9221\"],[1,\"#276419\"]],\"sequential\":[[0.0,\"#0d0887\"],[0.1111111111111111,\"#46039f\"],[0.2222222222222222,\"#7201a8\"],[0.3333333333333333,\"#9c179e\"],[0.4444444444444444,\"#bd3786\"],[0.5555555555555556,\"#d8576b\"],[0.6666666666666666,\"#ed7953\"],[0.7777777777777778,\"#fb9f3a\"],[0.8888888888888888,\"#fdca26\"],[1.0,\"#f0f921\"]],\"sequentialminus\":[[0.0,\"#0d0887\"],[0.1111111111111111,\"#46039f\"],[0.2222222222222222,\"#7201a8\"],[0.3333333333333333,\"#9c179e\"],[0.4444444444444444,\"#bd3786\"],[0.5555555555555556,\"#d8576b\"],[0.6666666666666666,\"#ed7953\"],[0.7777777777777778,\"#fb9f3a\"],[0.8888888888888888,\"#fdca26\"],[1.0,\"#f0f921\"]]},\"colorway\":[\"#636efa\",\"#EF553B\",\"#00cc96\",\"#ab63fa\",\"#FFA15A\",\"#19d3f3\",\"#FF6692\",\"#B6E880\",\"#FF97FF\",\"#FECB52\"],\"font\":{\"color\":\"#2a3f5f\"},\"geo\":{\"bgcolor\":\"white\",\"lakecolor\":\"white\",\"landcolor\":\"#E5ECF6\",\"showlakes\":true,\"showland\":true,\"subunitcolor\":\"white\"},\"hoverlabel\":{\"align\":\"left\"},\"hovermode\":\"closest\",\"mapbox\":{\"style\":\"light\"},\"paper_bgcolor\":\"white\",\"plot_bgcolor\":\"#E5ECF6\",\"polar\":{\"angularaxis\":{\"gridcolor\":\"white\",\"linecolor\":\"white\",\"ticks\":\"\"},\"bgcolor\":\"#E5ECF6\",\"radialaxis\":{\"gridcolor\":\"white\",\"linecolor\":\"white\",\"ticks\":\"\"}},\"scene\":{\"xaxis\":{\"backgroundcolor\":\"#E5ECF6\",\"gridcolor\":\"white\",\"gridwidth\":2,\"linecolor\":\"white\",\"showbackground\":true,\"ticks\":\"\",\"zerolinecolor\":\"white\"},\"yaxis\":{\"backgroundcolor\":\"#E5ECF6\",\"gridcolor\":\"white\",\"gridwidth\":2,\"linecolor\":\"white\",\"showbackground\":true,\"ticks\":\"\",\"zerolinecolor\":\"white\"},\"zaxis\":{\"backgroundcolor\":\"#E5ECF6\",\"gridcolor\":\"white\",\"gridwidth\":2,\"linecolor\":\"white\",\"showbackground\":true,\"ticks\":\"\",\"zerolinecolor\":\"white\"}},\"shapedefaults\":{\"line\":{\"color\":\"#2a3f5f\"}},\"ternary\":{\"aaxis\":{\"gridcolor\":\"white\",\"linecolor\":\"white\",\"ticks\":\"\"},\"baxis\":{\"gridcolor\":\"white\",\"linecolor\":\"white\",\"ticks\":\"\"},\"bgcolor\":\"#E5ECF6\",\"caxis\":{\"gridcolor\":\"white\",\"linecolor\":\"white\",\"ticks\":\"\"}},\"title\":{\"x\":0.05},\"xaxis\":{\"automargin\":true,\"gridcolor\":\"white\",\"linecolor\":\"white\",\"ticks\":\"\",\"title\":{\"standoff\":15},\"zerolinecolor\":\"white\",\"zerolinewidth\":2},\"yaxis\":{\"automargin\":true,\"gridcolor\":\"white\",\"linecolor\":\"white\",\"ticks\":\"\",\"title\":{\"standoff\":15},\"zerolinecolor\":\"white\",\"zerolinewidth\":2}}},\"xaxis\":{\"anchor\":\"y\",\"domain\":[0.0,1.0],\"tickfont\":{\"size\":16},\"tickangle\":0},\"yaxis\":{\"anchor\":\"x\",\"domain\":[0.575,1.0],\"title\":{\"text\":\"Mean squared error\"}},\"xaxis2\":{\"anchor\":\"y2\",\"domain\":[0.0,1.0],\"tickfont\":{\"size\":16},\"tickangle\":0},\"yaxis2\":{\"anchor\":\"x2\",\"domain\":[0.0,0.425],\"title\":{\"text\":\"Pearson correlation coefficient\"}},\"height\":1000,\"width\":5000,\"plot_bgcolor\":\"white\",\"showlegend\":false},                        {\"responsive\": true}                    ).then(function(){\n",
       "                            \n",
       "var gd = document.getElementById('30342c28-b836-47de-92ea-6cc4763c58a9');\n",
       "var x = new MutationObserver(function (mutations, observer) {{\n",
       "        var display = window.getComputedStyle(gd).display;\n",
       "        if (!display || display === 'none') {{\n",
       "            console.log([gd, 'removed!']);\n",
       "            Plotly.purge(gd);\n",
       "            observer.disconnect();\n",
       "        }}\n",
       "}});\n",
       "\n",
       "// Listen for the removal of the full notebook cells\n",
       "var notebookContainer = gd.closest('#notebook-container');\n",
       "if (notebookContainer) {{\n",
       "    x.observe(notebookContainer, {childList: true});\n",
       "}}\n",
       "\n",
       "// Listen for the clearing of the current output cell\n",
       "var outputEl = gd.closest('.output');\n",
       "if (outputEl) {{\n",
       "    x.observe(outputEl, {childList: true});\n",
       "}}\n",
       "\n",
       "                        })                };                });            </script>        </div>"
      ]
     },
     "metadata": {},
     "output_type": "display_data"
    }
   ],
   "source": [
    "#Generate a bar plot for mse and pearson for each cases\n",
    "import plotly.graph_objects as go\n",
    "from plotly.subplots import make_subplots\n",
    "fig = make_subplots(rows=2, cols=1)\n",
    "fig['layout']['yaxis']['title']='Mean squared error'\n",
    "fig['layout']['yaxis2']['title']='Pearson correlation coefficient'\n",
    "categories = ['Full sequence guide RNA',\n",
    "         'Target DNA-complementary guide RNA sequence', \n",
    "         'Target DNA-complementary guide RNA and guide RNA-complementary target DNA',\n",
    "         'Target DNA-complementary guide RNA and guide RNA-complementary target DNA (PAM included]',\n",
    "         'Target DNA-complementary guide RNA and guide RNA-complementary target DNA (Full included)']\n",
    "\n",
    "fig.add_trace(go.Bar(x=categories, y=[dt_gRNA_mse, dt_complementary_gRNA_mse,dt_concat_mse, dt_pam_included_mse, dt_context_included_mse]), row=1, col=1)\n",
    "fig.add_trace(go.Bar(x=categories, y=[dt_gRNA_pearson_results[0], dt_complementary_gRNA_pearson_results[0],dt_concat_pearson_results[0], dt_pam_included_pearson_results[0], dt_context_included_pearson_results[0]]), row=2, col=1)\n",
    "fig.update_xaxes(tickangle=-0, tickfont=dict(size=16))\n",
    "fig.update_layout(height = 1000, width = 5000, plot_bgcolor='white',showlegend = False)\n",
    "\n",
    "fig.show()"
   ]
  },
  {
   "cell_type": "code",
   "execution_count": 21,
   "id": "e67c436c-93fb-4abe-b70d-0ee287751551",
   "metadata": {},
   "outputs": [],
   "source": [
    "# Look at non sequence based features to begin with\n",
    "# GC content of guide RNA sequence\n",
    "def calculate_GC_content(sequence):\n",
    "    count = 0\n",
    "    for i in range(len(sequence)):\n",
    "        if sequence[i] == 'g' or sequence[i] == 'c':\n",
    "            count += 1\n",
    "    return count/len(sequence)\n",
    "\n",
    "\n",
    "\n",
    "\n",
    "\n"
   ]
  },
  {
   "cell_type": "code",
   "execution_count": 32,
   "id": "91dd2334-3c1d-4410-95ff-1d5c1db706a2",
   "metadata": {},
   "outputs": [
    {
     "data": {
      "text/plain": [
       "0.43902439024390244"
      ]
     },
     "execution_count": 32,
     "metadata": {},
     "output_type": "execute_result"
    }
   ],
   "source": [
    "guide_RNA_sequences = df_guide_RNA['Sequence']\n",
    "guide_RNAs_gc_content = []\n",
    "\n",
    "for i in guide_RNA_sequences:\n",
    "    guide_RNA_gc_content = calculate_GC_content(i)\n",
    "    guide_RNAs_gc_content.append(guide_RNA_gc_content)\n",
    "\n",
    "feature_name_gc = 'GC content'\n",
    "\n",
    "guide_RNAs_gc_content[0]"
   ]
  },
  {
   "cell_type": "code",
   "execution_count": 52,
   "id": "e7fa9fb2-018a-4e70-927c-0f98bb4120cf",
   "metadata": {},
   "outputs": [
    {
     "name": "stdout",
     "output_type": "stream",
     "text": [
      "     Feature_names  Importance\n",
      "143  guide RNA G36    0.421721\n",
      "87   guide RNA G22    0.347266\n",
      "102  guide RNA C26    0.044627\n",
      "140  guide RNA A36    0.018364\n",
      "164     GC content    0.017086\n",
      "..             ...         ...\n",
      "56   guide RNA A15    0.000000\n",
      "57   guide RNA U15    0.000000\n",
      "58   guide RNA C15    0.000000\n",
      "59   guide RNA G15    0.000000\n",
      "82   guide RNA C21    0.000000\n",
      "\n",
      "[165 rows x 2 columns]\n",
      "0.038294185979162655\n",
      "(0.22393227056508302, 0.2714550530663572)\n"
     ]
    }
   ],
   "source": [
    "#Add gc content to each of the feature names\n",
    "#One hot encode guide RNA sequences\n",
    "guide_RNA_sequences = df_guide_RNA['Sequence']\n",
    "guide_RNA_one_hot_encoded_sequences = []\n",
    "for i in guide_RNA_sequences:\n",
    "    one_hot_encoded_sequence = one_hot_encode_RNA(i)\n",
    "    guide_RNA_one_hot_encoded_sequences.append(one_hot_encoded_sequence.ravel())\n",
    "\n",
    "\n",
    "#Add gc contentent as a feature at the end of each one hot encoded gc \n",
    "guide_RNA_one_hot_encoded_sequences_gc_added = []\n",
    "for i in range(len(guide_RNA_one_hot_encoded_sequences)):\n",
    "    guide_RNA_one_hot_encoded_sequence_gc_added = np.append(guide_RNA_one_hot_encoded_sequences[i], guide_RNAs_gc_content[i])\n",
    "    guide_RNA_one_hot_encoded_sequences_gc_added.append(guide_RNA_one_hot_encoded_sequence_gc_added)\n",
    "\n",
    "#generate feature names\n",
    "feature_names_gRNA = []\n",
    "for i in range(41):\n",
    "    feature_names_gRNA.append('guide RNA A' + str(i+1))\n",
    "    feature_names_gRNA.append('guide RNA U' + str(i+1))\n",
    "    feature_names_gRNA.append('guide RNA C' + str(i+1))\n",
    "    feature_names_gRNA.append('guide RNA G' + str(i+1))\n",
    "\n",
    "feature_names_gRNA.append(feature_name_gc)\n",
    "\n",
    "dt_gRNA_gc_added_model_importance = []\n",
    "dt_gRNA_gc_added_mse =[]\n",
    "dt_gRNA_gc_added_model_importance, dt_gRNA_gc_added_mse, dt_gRNA_gc_added_pearson_results = train_dt(guide_RNA_one_hot_encoded_sequences_gc_added,k_values,feature_names_gRNA)\n",
    "print(dt_gRNA_gc_added_model_importance.sort_values(by = 'Importance', ascending = False))\n",
    "print(dt_gRNA_gc_added_mse)\n",
    "print(dt_gRNA_gc_added_pearson_results)"
   ]
  },
  {
   "cell_type": "code",
   "execution_count": null,
   "id": "6fa5145f-674e-400c-bd14-f3f6d1c41c85",
   "metadata": {},
   "outputs": [],
   "source": []
  }
 ],
 "metadata": {
  "kernelspec": {
   "display_name": "Python 3 (ipykernel)",
   "language": "python",
   "name": "python3"
  },
  "language_info": {
   "codemirror_mode": {
    "name": "ipython",
    "version": 3
   },
   "file_extension": ".py",
   "mimetype": "text/x-python",
   "name": "python",
   "nbconvert_exporter": "python",
   "pygments_lexer": "ipython3",
   "version": "3.9.12"
  }
 },
 "nbformat": 4,
 "nbformat_minor": 5
}
