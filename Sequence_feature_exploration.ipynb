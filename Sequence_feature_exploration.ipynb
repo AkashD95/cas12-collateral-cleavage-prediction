{
 "cells": [
  {
   "cell_type": "code",
   "execution_count": 307,
   "id": "f767d12e-493d-44f0-b6ec-eaba74a6d551",
   "metadata": {},
   "outputs": [],
   "source": [
    "#Import libraries required\n",
    "import pandas as pd\n",
    "import numpy as np\n",
    "from matplotlib import pyplot as plt"
   ]
  },
  {
   "cell_type": "code",
   "execution_count": 308,
   "id": "900e1b1a-fc7a-4c8f-b0be-84bc49c792ff",
   "metadata": {},
   "outputs": [],
   "source": [
    "#Load up guide RNA sequences and target DNA sequences as pandas dataframe\n",
    "df_guide_RNA = pd.read_csv(r\"C:\\Users\\dasak\\OneDrive\\Documents\\GitHub\\cas12-collateral-cleavage-prediction\\full_guide_RNA_sequences.csv\")\n",
    "df_target_DNA = pd.read_csv(r\"C:\\Users\\dasak\\OneDrive\\Documents\\GitHub\\cas12-collateral-cleavage-prediction\\target_DNA_sequences.csv\")\n",
    "df_target_DNA_reverse_complements = pd.read_csv(r\"C:\\Users\\dasak\\OneDrive\\Documents\\GitHub\\cas12-collateral-cleavage-prediction\\target_DNA_sequences_reverse_complements.csv\")\n"
   ]
  },
  {
   "cell_type": "code",
   "execution_count": 309,
   "id": "ae264cd5-c0a8-439b-9b2b-04d38698d6d8",
   "metadata": {},
   "outputs": [],
   "source": [
    "# Load k_value_sigmoid from experiment on 24_05_2022 \n",
    "from numpy import genfromtxt\n",
    "k_values = genfromtxt('k_values_sigmoid.csv', delimiter=',')"
   ]
  },
  {
   "cell_type": "code",
   "execution_count": 310,
   "id": "d7be60d3",
   "metadata": {},
   "outputs": [],
   "source": [
    "def one_hot_encode_RNA(gRNA_sequence):\n",
    "    mapping = dict(zip(\"aucg\", range(4)))    \n",
    "    one_hot_encoded_sequence = [mapping[i] for i in gRNA_sequence]\n",
    "    return np.eye(4)[one_hot_encoded_sequence]"
   ]
  },
  {
   "cell_type": "code",
   "execution_count": 311,
   "id": "c6b2876d-76b3-42fd-9794-05f319c329a2",
   "metadata": {},
   "outputs": [],
   "source": [
    " # One hot encode guide RNA sequences\n",
    "guide_RNA_sequences = df_guide_RNA['Sequence']\n",
    "guide_RNA_one_hot_encoded_sequences = []\n",
    "for i in guide_RNA_sequences:\n",
    "    one_hot_encoded_sequence = one_hot_encode_RNA(i)\n",
    "    guide_RNA_one_hot_encoded_sequences.append(one_hot_encoded_sequence.ravel())\n",
    "\n",
    "#generate feature names\n",
    "feature_names_gRNA = []\n",
    "for i in range(41):\n",
    "    feature_names_gRNA.append('guide RNA A' + str(i+1))\n",
    "    feature_names_gRNA.append('guide RNA U' + str(i+1))\n",
    "    feature_names_gRNA.append('guide RNA C' + str(i+1))\n",
    "    feature_names_gRNA.append('guide RNA G' + str(i+1))"
   ]
  },
  {
   "cell_type": "code",
   "execution_count": 312,
   "id": "77125403-3659-4499-9593-474399bf9cc4",
   "metadata": {},
   "outputs": [],
   "source": [
    "from sklearn.model_selection import train_test_split\n",
    "from sklearn import tree\n",
    "from sklearn.metrics import mean_squared_error\n",
    "from scipy import stats\n",
    "\n",
    "def train_dt(input_features, outputs, input_feature_names):\n",
    "    '''\n",
    "    This function takes in input features and outputs as kvalue for an experiment. \n",
    "    It then trains a decision tree on these features.\n",
    "    \n",
    "    '''\n",
    "    input_train, input_test, output_train, output_test = train_test_split(\n",
    "        input_features, outputs, test_size=0.2, random_state=42)\n",
    "    model = tree.DecisionTreeRegressor(max_depth = 10, random_state = 42)\n",
    "    model = model.fit(input_train, output_train)\n",
    "    model_importance = pd.DataFrame({'Feature_names':input_feature_names,'Importance': model.feature_importances_})\n",
    "    output_predictions = model.predict(input_test)\n",
    "    mse = mean_squared_error(output_test, output_predictions)\n",
    "    pearson_rank_results = stats.pearsonr(output_test, output_predictions)\n",
    "    return(model_importance,mse, pearson_rank_results)\n",
    "    \n",
    "    \n",
    "    \n"
   ]
  },
  {
   "cell_type": "code",
   "execution_count": 321,
   "id": "cb3264b3-775b-4507-9da9-695d6be5dcb0",
   "metadata": {},
   "outputs": [
    {
     "name": "stdout",
     "output_type": "stream",
     "text": [
      "     Feature_names  Importance\n",
      "140  guide RNA A36    0.426137\n",
      "87   guide RNA G22    0.347384\n",
      "102  guide RNA C26    0.044643\n",
      "148  guide RNA A38    0.017398\n",
      "139  guide RNA G35    0.014933\n",
      "..             ...         ...\n",
      "55   guide RNA G14    0.000000\n",
      "56   guide RNA A15    0.000000\n",
      "57   guide RNA U15    0.000000\n",
      "58   guide RNA C15    0.000000\n",
      "163  guide RNA G41    0.000000\n",
      "\n",
      "[164 rows x 2 columns]\n",
      "0.03167370134062151\n",
      "(0.42750606663950685, 0.02937268997360803)\n"
     ]
    }
   ],
   "source": [
    "dt_gRNA_model_importance = []\n",
    "dt_gRNA_mse =[]\n",
    "dt_gRNA_model_importance, dt_gRNA_mse, dt_gRNA_pearson_results = train_dt(guide_RNA_one_hot_encoded_sequences,k_values,feature_names_gRNA)\n",
    "print(dt_gRNA_model_importance.sort_values(by = 'Importance', ascending = False))\n",
    "print(dt_gRNA_mse)\n",
    "print(dt_gRNA_pearson_results)"
   ]
  },
  {
   "cell_type": "code",
   "execution_count": 320,
   "id": "3c9ca4e3-314f-48b8-91ee-44f82a61755c",
   "metadata": {},
   "outputs": [
    {
     "name": "stdout",
     "output_type": "stream",
     "text": [
      "      Feature_names  Importance\n",
      "108  target DNA A14    0.421864\n",
      "3      guide RNA G1    0.347387\n",
      "39    target DNA G5    0.044643\n",
      "128   guide RNA A17    0.017398\n",
      "107   guide RNA G14    0.014933\n",
      "..              ...         ...\n",
      "74    guide RNA C10    0.000000\n",
      "73    guide RNA U10    0.000000\n",
      "72    guide RNA A10    0.000000\n",
      "71    target DNA G9    0.000000\n",
      "0      guide RNA A1    0.000000\n",
      "\n",
      "[160 rows x 2 columns]\n",
      "0.03171246280915801\n",
      "(0.3152025980651273, 0.11677226539389007)\n"
     ]
    }
   ],
   "source": [
    "#Try 8 bit vectors where the first 4 bits represent the guide RNA and the second 4 bits represent the target DNA. Use only the 20bp matching region to begin with.\n",
    "#Take the last twenty bases of the guide RNA sequences\n",
    "complementary_guide_RNA_sequences = []\n",
    "for i in guide_RNA_sequences:\n",
    "    complementary_guide_RNA_sequence = i[21:41]\n",
    "    complementary_guide_RNA_sequences.append(complementary_guide_RNA_sequence)\n",
    "\n",
    "#One hot encode them\n",
    "complementary_guide_RNA_one_hot_encoded_sequences = []\n",
    "for i in complementary_guide_RNA_sequences:\n",
    "    one_hot_encoded_sequence = one_hot_encode_RNA(i)\n",
    "    complementary_guide_RNA_one_hot_encoded_sequences.append(one_hot_encoded_sequence)\n",
    "\n",
    "\n",
    "#Take the middle 20 of the target complements and reorder back to fron so they become complementary to guide RNA sequence\n",
    "target_DNA_complements = []\n",
    "complementary_target_DNA_sequences = []\n",
    "for i in target_DNA_sequences:\n",
    "    complementary_target_DNA_sequence = i[39:19:-1] #This generates the complement to the guide\n",
    "    complementary_target_DNA_sequences.append(complementary_target_DNA_sequence)\n",
    "# print(complementary_target_DNA_sequences[0])    \n",
    "\n",
    "complementary_target_DNA_one_hot_encoded_sequences = []\n",
    "for i in complementary_target_DNA_sequences:\n",
    "    one_hot_encoded_sequence = one_hot_encode_DNA(i)\n",
    "    complementary_target_DNA_one_hot_encoded_sequences.append(one_hot_encoded_sequence)\n",
    "# print(complementary_target_DNA_one_hot_encoded_sequences[0])  \n",
    "\n",
    "#Concatenate the one hot encodes sequences\n",
    "concat_complementary_guide_RNAs_target_DNAs = []\n",
    "# test with 1st element \n",
    "for i in range(len(complementary_guide_RNA_one_hot_encoded_sequences)):\n",
    "    # print(i)\n",
    "    concat_complementary_guide_RNA_target_DNA = np.hstack((complementary_guide_RNA_one_hot_encoded_sequences[i], complementary_target_DNA_one_hot_encoded_sequences[i])).ravel()\n",
    "    concat_complementary_guide_RNAs_target_DNAs.append(concat_complementary_guide_RNA_target_DNA)\n",
    "\n",
    "#Set up feature names \n",
    "feature_names_concat_guide_RNA_target_DNA = []\n",
    "for i in range(20):\n",
    "    feature_names_concat_guide_RNA_target_DNA.append('guide RNA A' + str(i+1))\n",
    "    feature_names_concat_guide_RNA_target_DNA.append('guide RNA U' + str(i+1))\n",
    "    feature_names_concat_guide_RNA_target_DNA.append('guide RNA C' + str(i+1))\n",
    "    feature_names_concat_guide_RNA_target_DNA.append('guide RNA G' + str(i+1))\n",
    "    feature_names_concat_guide_RNA_target_DNA.append('target DNA A' + str(i+1))\n",
    "    feature_names_concat_guide_RNA_target_DNA.append('target DNA T' + str(i+1))\n",
    "    feature_names_concat_guide_RNA_target_DNA.append('target DNA C' + str(i+1))\n",
    "    feature_names_concat_guide_RNA_target_DNA.append('target DNA G' + str(i+1))\n",
    "    \n",
    "dt_concat_importance=[]\n",
    "dt_concat_mse = []\n",
    "dt_concat_pearson_results = []\n",
    "dt_concat_importance, dt_concat_mse, dt_concat_pearson_results = train_dt(concat_complementary_guide_RNAs_target_DNAs, k_values, feature_names_concat_guide_RNA_target_DNA)\n",
    "print(dt_concat_importance.sort_values(by = 'Importance', ascending = False))\n",
    "print(dt_concat_mse)\n",
    "print(dt_concat_pearson_results)\n"
   ]
  },
  {
   "cell_type": "code",
   "execution_count": null,
   "id": "91a7a9c3-673a-446f-969b-36aa74e3dae8",
   "metadata": {},
   "outputs": [],
   "source": [
    "# Add context dependency of 20 bp either side of the target DNA"
   ]
  },
  {
   "cell_type": "code",
   "execution_count": 36,
   "id": "ee5eec2d-2df6-4384-9850-31f5b3173dd2",
   "metadata": {
    "tags": []
   },
   "outputs": [],
   "source": [
    "# Train with random forest model instead\n",
    "from sklearn.ensemble import RandomForestRegressor\n",
    "from sklearn.metrics import mean_squared_error\n",
    "\n",
    "def train_rf(input_features, outputs, input_feature_names):\n",
    "    input_train, input_test, output_train, output_test = train_test_split(\n",
    "        input_features, outputs, test_size=0.2, random_state=42)\n",
    "    model = RandomForestRegressor(n_estimators = 1000, random_state = 42)\n",
    "    model = model.fit(input_train, output_train)\n",
    "    model_importance = pd.DataFrame({'Feature_names':input_feature_names,'Importance': model.feature_importances_})\n",
    "    output_predictions = model.predict(input_test)\n",
    "    mse = mean_squared_error(output_test, output_predictions)\n",
    "    return(model_importance,mse)\n",
    "    "
   ]
  },
  {
   "cell_type": "code",
   "execution_count": 37,
   "id": "95615ce6-9f60-470b-8071-4f112d2f17d0",
   "metadata": {},
   "outputs": [
    {
     "data": {
      "text/plain": [
       "0.042309000198761035"
      ]
     },
     "execution_count": 37,
     "metadata": {},
     "output_type": "execute_result"
    }
   ],
   "source": [
    "# For target RNA sequences\n",
    "rf_guide_RNA_importance = []\n",
    "rf_guide_RNA_mse = []\n",
    "rf_guide_RNA_importance, rf_guide_RNA_mse = train_rf(guide_RNA_one_hot_encoded_sequences, k_values, feature_names_gRNA)\n",
    "\n",
    "rf_guide_RNA_importance.sort_values(by = 'Importance', ascending = False)\n",
    "rf_guide_RNA_mse"
   ]
  },
  {
   "cell_type": "code",
   "execution_count": 41,
   "id": "65b4dd03-6928-4e0e-8f13-7830ae628404",
   "metadata": {},
   "outputs": [
    {
     "data": {
      "text/plain": [
       "0.03858754168867855"
      ]
     },
     "execution_count": 41,
     "metadata": {},
     "output_type": "execute_result"
    }
   ],
   "source": [
    "#For target DNA sequences\n",
    "rf_target_DNA_importance = []\n",
    "rf_target_DNA_mse = []\n",
    "rf_target_DNA_importance, rf_target_DNA_mse = train_rf(target_DNA_one_hot_encoded_sequences, k_values, feature_names_DNA)\n",
    "\n",
    "rf_target_DNA_importance.sort_values(by = 'Importance', ascending = False)\n",
    "rf_target_DNA_mse"
   ]
  },
  {
   "cell_type": "code",
   "execution_count": 42,
   "id": "4a85b59e-7de0-4249-928f-3f04ddb04b89",
   "metadata": {},
   "outputs": [
    {
     "data": {
      "text/plain": [
       "0.03488783107536453"
      ]
     },
     "execution_count": 42,
     "metadata": {},
     "output_type": "execute_result"
    }
   ],
   "source": [
    "# For combined model\n",
    "rf_combined_model_importance = []\n",
    "rf_combined_mse =[]\n",
    "rf_combined_model_importance, rf_combined_mse = train_rf(combined_one_hot_encoded_sequences, k_values, feature_names_combined)\n",
    "rf_combined_model_importance.sort_values(by = 'Importance', ascending = False)\n",
    "rf_combined_mse"
   ]
  },
  {
   "cell_type": "code",
   "execution_count": 46,
   "id": "ede81762-b07a-4411-84a8-882a9a06afee",
   "metadata": {},
   "outputs": [],
   "source": [
    "# Add in lightgbm and a function to train lgb\n",
    "from lightgbm import LGBMRegressor\n",
    "def train_lightgbm(input_features, outputs, input_feature_names):\n",
    "    input_train, input_test, output_train, output_test = train_test_split(\n",
    "        input_features, outputs, test_size=0.2, random_state=42)\n",
    "    model = LGBMRegressor()\n",
    "    model = model.fit(input_train, output_train)\n",
    "    model_importance = pd.DataFrame({'Feature_names':input_feature_names,'Importance': model.feature_importances_})\n",
    "    output_predictions = model.predict(input_test)\n",
    "    mse = mean_squared_error(output_test, output_predictions)\n",
    "    return(model_importance,mse)"
   ]
  },
  {
   "cell_type": "code",
   "execution_count": 47,
   "id": "4ae207e0-91ce-4544-b2fc-1a01ea283d99",
   "metadata": {},
   "outputs": [
    {
     "data": {
      "text/plain": [
       "0.030547662720544846"
      ]
     },
     "execution_count": 47,
     "metadata": {},
     "output_type": "execute_result"
    }
   ],
   "source": [
    "#For guide RNA sequences\n",
    "lgb_gRNA_model_importance = []\n",
    "lgb_mse = []\n",
    "lgb_gRNA_model_importance, lgb_gRNA_mse = train_lightgbm(guide_RNA_one_hot_encoded_sequences,k_values,feature_names_gRNA)\n",
    "lgb_gRNA_model_importance.sort_values(by = 'Importance', ascending = False)\n",
    "lgb_gRNA_mse"
   ]
  },
  {
   "cell_type": "code",
   "execution_count": 52,
   "id": "e06257a0-edc4-4ba1-a7e9-459f18f6b98f",
   "metadata": {},
   "outputs": [
    {
     "data": {
      "text/plain": [
       "0.0374439796267538"
      ]
     },
     "execution_count": 52,
     "metadata": {},
     "output_type": "execute_result"
    }
   ],
   "source": [
    "#For target DNA sequences\n",
    "lgb_target_DNA_importance = []\n",
    "lgb_target_DNA_mse = []\n",
    "lgb_target_DNA_importance,lgb_target_DNA_mse = train_lightgbm(target_DNA_one_hot_encoded_sequences, k_values, feature_names_DNA)\n",
    "lgb_target_DNA_importance.sort_values(by = 'Importance', ascending = False)\n",
    "lgb_target_DNA_mse"
   ]
  },
  {
   "cell_type": "code",
   "execution_count": 51,
   "id": "226a1b93-688a-4998-ae10-c45feb7bc46a",
   "metadata": {},
   "outputs": [
    {
     "data": {
      "text/plain": [
       "0.03403550284166197"
      ]
     },
     "execution_count": 51,
     "metadata": {},
     "output_type": "execute_result"
    }
   ],
   "source": [
    "# For combined sequences\n",
    "lgb_combined_model_importance = []\n",
    "lgb_combined_mse =[]\n",
    "lgb_combined_model_importance, lgb_combined_mse = train_lightgbm(combined_one_hot_encoded_sequences, k_values, feature_names_combined)\n",
    "lgb_combined_model_importance.sort_values(by = 'Importance', ascending = False)\n",
    "lgb_combined_mse"
   ]
  },
  {
   "cell_type": "code",
   "execution_count": 64,
   "id": "80885ecc-6de3-468f-a13d-f5b3112a35e9",
   "metadata": {},
   "outputs": [],
   "source": [
    "# Add in xgboost\n",
    "from xgboost import XGBRegressor\n",
    "def train_xgboost(input_features, outputs, input_feature_names):\n",
    "    input_train, input_test, output_train, output_test = train_test_split(\n",
    "        input_features, outputs, test_size=0.2, random_state=42)\n",
    "    model = XGBRegressor()\n",
    "    model = model.fit(input_train, output_train)\n",
    "    model_importance = pd.DataFrame({'Feature_names':input_feature_names,'Importance': model.feature_importances_})\n",
    "    output_predictions = model.predict(input_test)\n",
    "    mse = mean_squared_error(output_test, output_predictions)\n",
    "    return(model_importance,mse)"
   ]
  },
  {
   "cell_type": "code",
   "execution_count": 65,
   "id": "2a8b86ad-d8e2-46f6-8248-7a79ef4770d5",
   "metadata": {},
   "outputs": [
    {
     "data": {
      "text/plain": [
       "0.015122088954935458"
      ]
     },
     "execution_count": 65,
     "metadata": {},
     "output_type": "execute_result"
    }
   ],
   "source": [
    "#For guide RNA sequences\n",
    "xgb_gRNA_model_importance = []\n",
    "xgb_mse = []\n",
    "xgb_gRNA_model_importance, xgb_gRNA_mse = train_xgboost(guide_RNA_one_hot_encoded_sequences,k_values,feature_names_gRNA)\n",
    "xgb_gRNA_model_importance.sort_values(by = 'Importance', ascending = False)\n",
    "xgb_gRNA_mse"
   ]
  },
  {
   "cell_type": "code",
   "execution_count": 66,
   "id": "04ae9cbc-a4a9-425e-b5dd-c5d16ce63970",
   "metadata": {},
   "outputs": [
    {
     "data": {
      "text/plain": [
       "0.23950571481640417"
      ]
     },
     "execution_count": 66,
     "metadata": {},
     "output_type": "execute_result"
    }
   ],
   "source": [
    "#For target DNA sequences\n",
    "xgb_target_DNA_importance = []\n",
    "xgb_target_DNA_mse = []\n",
    "xgb_target_DNA_importance,xgb_target_DNA_mse = train_xgboost(target_DNA_one_hot_encoded_sequences, k_values, feature_names_DNA)\n",
    "xgb_target_DNA_importance.sort_values(by = 'Importance', ascending = False)\n",
    "xgb_target_DNA_mse"
   ]
  },
  {
   "cell_type": "code",
   "execution_count": 67,
   "id": "2b9908a4-a47e-44c8-a844-f632c1fabb87",
   "metadata": {},
   "outputs": [
    {
     "data": {
      "text/plain": [
       "0.33516521686319095"
      ]
     },
     "execution_count": 67,
     "metadata": {},
     "output_type": "execute_result"
    }
   ],
   "source": [
    "# For combined sequences\n",
    "xgb_combined_model_importance = []\n",
    "xgb_combined_mse =[]\n",
    "xgb_combined_model_importance, xgb_combined_mse = train_xgboost(combined_one_hot_encoded_sequences, k_values, feature_names_combined)\n",
    "xgb_combined_model_importance.sort_values(by = 'Importance', ascending = False)\n",
    "xgb_combined_mse"
   ]
  },
  {
   "cell_type": "code",
   "execution_count": null,
   "id": "07500b47-f513-4e9b-ac75-e2ce1b39d647",
   "metadata": {},
   "outputs": [],
   "source": []
  }
 ],
 "metadata": {
  "kernelspec": {
   "display_name": "Python 3 (ipykernel)",
   "language": "python",
   "name": "python3"
  },
  "language_info": {
   "codemirror_mode": {
    "name": "ipython",
    "version": 3
   },
   "file_extension": ".py",
   "mimetype": "text/x-python",
   "name": "python",
   "nbconvert_exporter": "python",
   "pygments_lexer": "ipython3",
   "version": "3.9.12"
  }
 },
 "nbformat": 4,
 "nbformat_minor": 5
}
