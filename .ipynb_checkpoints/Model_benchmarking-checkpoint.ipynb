{
 "cells": [
  {
   "cell_type": "markdown",
   "id": "befa762f-4aed-4f82-a15d-cdd751b11706",
   "metadata": {},
   "source": [
    "This notebook takes in sequence features and runs them through a different models. All model hyperparameters are \n",
    "selected using optuna. Models are run across 10 folds and benchmarking results are plotted\n",
    "for mean squared error and pearson's correlation coefficient\n",
    "\n"
   ]
  },
  {
   "cell_type": "code",
   "execution_count": 1,
   "id": "397f1028-32b8-4cae-8dcd-b8fabfb34a37",
   "metadata": {},
   "outputs": [],
   "source": [
    "#import libraries\n",
    "import pandas as pd\n",
    "import numpy as np \n",
    "import sklearn"
   ]
  },
  {
   "cell_type": "code",
   "execution_count": 2,
   "id": "a79f285a-d9dd-4f8b-8c55-9a91c6d89a3a",
   "metadata": {},
   "outputs": [
    {
     "name": "stdout",
     "output_type": "stream",
     "text": [
      "[ 0.11984317  0.13894219  0.15437609  0.06970868  0.13297348  0.12425794\n",
      "  0.18793106  0.27095051  0.16818124  0.1347531   0.29226458  0.12293203\n",
      "  0.38708549  0.19778096  0.3622934   0.34890034  0.20684573  0.11417769\n",
      " -0.07936754  0.31408586  0.18672599  0.13433442  0.1847865   0.24778192\n",
      "  0.42079963  0.35078867  0.09680571  0.5202575   0.22697745  0.3248318\n",
      "  0.1702902   0.24634137  0.14220321 -2.51561011  0.17162254  0.04222993\n",
      "  0.24852536  0.296885    0.27256568  0.32140478  0.21027936  0.1127019\n",
      "  0.20870236  0.28398043  0.32744511  0.2282549   0.14870497  0.32030304\n",
      "  0.2445419   0.08811278  0.44583873  0.15249895  0.23265821  0.22829356\n",
      "  0.2489641   0.16632398  0.27098826  0.18329734  0.11389634  0.29132781\n",
      "  0.35664269 -0.2822598   0.14580803  0.06875822  0.09644608  0.10429324\n",
      "  0.16959348  0.32049426  0.3353713   0.18005612  0.15875678  0.29960359\n",
      "  0.41943501  0.45389137  0.29449169  0.47311382  0.28739385  0.33115047\n",
      "  0.3254987   0.44876175  0.15296381  0.1752204   0.03428146  0.12907951\n",
      "  0.15719791  0.14365916  0.11348848  0.22719745  0.15701639  0.28758171\n",
      "  0.23354417  0.24529536  0.26303802  0.27018578 -0.12032316  0.30571032\n",
      "  0.52227901  0.30234876  0.134204    0.43973194  0.29394405  0.14966797\n",
      "  0.6080304   0.46390566  0.19216182  0.37506307  0.26435888  0.18638577\n",
      "  0.21090677  0.2366777   0.40474625  0.23026988  0.19122837  0.20240306\n",
      "  0.37880942  0.4199645   0.08620287  0.24505573  0.32088558  0.27953826\n",
      " -0.03542791  0.07950009  0.03397793 -0.10215587  0.33512134  0.23997044\n",
      "  0.13495767]\n"
     ]
    }
   ],
   "source": [
    "#Load up guide RNA And target DNA as dataframes\n",
    "df_guide_RNA = pd.read_csv(r\"C:\\Users\\dasak\\OneDrive\\Documents\\GitHub\\cas12-collateral-cleavage-prediction\\full_guide_RNA_sequences.csv\")\n",
    "df_target_DNA = pd.read_csv(r\"C:\\Users\\dasak\\OneDrive\\Documents\\GitHub\\cas12-collateral-cleavage-prediction\\target_DNA_sequences.csv\")\n",
    "\n",
    "# Load k_value_sigmoid from experiment on 24_05_2022 \n",
    "from numpy import genfromtxt\n",
    "k_values = genfromtxt('k_values_sigmoid.csv', delimiter=',')\n",
    "print(k_values)"
   ]
  },
  {
   "cell_type": "code",
   "execution_count": 3,
   "id": "ba668e9f-51fd-4b89-a00d-49068d2e4a73",
   "metadata": {},
   "outputs": [],
   "source": [
    "def one_hot_encode_DNA(DNA_sequence):\n",
    "    mapping = dict(zip(\"atcg\", range(4)))    \n",
    "    one_hot_encoded_sequence = [mapping[i] for i in DNA_sequence]\n",
    "    return np.eye(4)[one_hot_encoded_sequence]"
   ]
  },
  {
   "cell_type": "code",
   "execution_count": 4,
   "id": "cb8d784a-f04f-49ee-95d6-705c91d84669",
   "metadata": {},
   "outputs": [],
   "source": [
    "def one_hot_encode_RNA(gRNA_sequence):\n",
    "    mapping = dict(zip(\"aucg\", range(4)))    \n",
    "    one_hot_encoded_sequence = [mapping[i] for i in gRNA_sequence]\n",
    "    return np.eye(4)[one_hot_encoded_sequence]"
   ]
  },
  {
   "cell_type": "code",
   "execution_count": 5,
   "id": "0a81cfaf-73b9-4d6b-9d3c-c24777ee43c2",
   "metadata": {},
   "outputs": [],
   "source": [
    "guide_RNA_sequences = df_guide_RNA['Sequence']\n",
    "guide_RNA_one_hot_encoded_sequences = []\n",
    "for i in guide_RNA_sequences:\n",
    "    one_hot_encoded_sequence = one_hot_encode_RNA(i)\n",
    "    guide_RNA_one_hot_encoded_sequences.append(one_hot_encoded_sequence.ravel())\n",
    "\n",
    "#generate feature names\n",
    "feature_names_gRNA = []\n",
    "for i in range(41):\n",
    "    feature_names_gRNA.append('guide RNA A' + str(i+1))\n",
    "    feature_names_gRNA.append('guide RNA U' + str(i+1))\n",
    "    feature_names_gRNA.append('guide RNA C' + str(i+1))\n",
    "    feature_names_gRNA.append('guide RNA G' + str(i+1))"
   ]
  },
  {
   "cell_type": "code",
   "execution_count": 7,
   "id": "af2067df-2d1a-492c-b4c3-f22b27044895",
   "metadata": {},
   "outputs": [],
   "source": [
    "#Generalised model function\n",
    "\n",
    "from sklearn.model_selection import train_test_split\n",
    "from sklearn.metrics import mean_squared_error\n",
    "from scipy.stats import pearsonr\n",
    "from sklearn.metrics import r2_score\n",
    "from sklearn.tree import DecisionTreeRegressor\n",
    "\n",
    "def train_model(model,input_features, outputs, input_feature_names):\n",
    "    '''\n",
    "    This function takes in input features and outputs as kvalue for an experiment. \n",
    "    It then trains a model on these features. Hyperparameter optimisation is performed using\n",
    "    optuna, training and validation is performed with cross validation    \n",
    "    '''\n",
    "    #Set out 20% of data to act as a hold out for training.\n",
    "    input_train, input_test, output_train, output_test = train_test_split(\n",
    "        input_features,outputs, test_size=0.2, random_state=0)\n",
    "    \n",
    "    #Model selection\n",
    "    model = model\n",
    "    model = model.fit(input_train, output_train)\n",
    "    model_importance = pd.DataFrame({'Feature_names':input_feature_names,'Importance': model.feature_importances_})\n",
    "    output_predictions = model.predict(input_test)\n",
    "    mse = mean_squared_error(output_test, output_predictions)\n",
    "    pearson_rank_results = pearsonr(output_test, output_predictions)\n",
    "    r2 = r2_score(output_test,output_predictions)\n",
    "    return(model_importance,mse, pearson_rank_results,r2)\n",
    "    "
   ]
  },
  {
   "cell_type": "code",
   "execution_count": null,
   "id": "47847193-059f-4d4b-8b64-da4fabc8a42a",
   "metadata": {},
   "outputs": [],
   "source": [
    "import optuna\n",
    "from sklearn.model_selection import train_test_split\n",
    "from sklearn.metrics import mean_squared_error\n",
    "from scipy.stats import pearsonr\n",
    "from sklearn.metrics import r2_score\n",
    "from sklearn.tree import DecisionTreeRegressor\n",
    "from sklearn.model_selection import cross_validate\n",
    "from functools import *\n",
    "\n",
    "def objective_dt(trial):\n",
    "    \n",
    "    ccp_alpha = trial.suggest_float('ccp_alpha', 0, 10)\n",
    "    criterion = trial.suggest_categorical('criterion', ['squared_error', 'friedman_mse', 'absolute_error'])\n",
    "    min_samples_leaf = trial.suggest_int('min_samples_leaf', 1, 100)\n",
    "    min_samples_split = trial.suggest_int ('min_samples_split',20,100)\n",
    "    \n",
    "    model =  DecisionTreeRegressor(\n",
    "        ccp_alpha = ccp_alpha,\n",
    "        criterion = criterion,\n",
    "        min_samples_leaf = min_samples_leaf,\n",
    "        min_samples_split = min_samples_split,\n",
    "        random_state = 42)\n",
    "    \n",
    "    #Use 10 way cross validation for training.\n",
    "    score = cross_validate(model, guide_RNA_one_hot_encoded_sequences, k_values, cv = 5, scoring = 'r2')\n",
    "    score_mean = np.mean(score['test_score'])\n",
    "    return(score_mean)\n",
    "    \n",
    "study = optuna.create_study(direction = 'maximize')\n",
    "optimization_function = partial(\n",
    "                objective_dt,\n",
    "                x = guide_RNA_one_hot_encoded_sequences,\n",
    "                y = k_values\n",
    "            )\n",
    "study.optimize(optimization_function, n_trials=100) \n",
    "dt_gRNA = study.best_value"
   ]
  },
  {
   "cell_type": "code",
   "execution_count": null,
   "id": "2ac5d0c9-c59e-47c7-862b-403472c09c8d",
   "metadata": {},
   "outputs": [],
   "source": [
    "import optuna\n",
    "from sklearn.model_selection import train_test_split\n",
    "from sklearn.metrics import mean_squared_error\n",
    "from scipy.stats import pearsonr\n",
    "from sklearn.metrics import r2_score\n",
    "from sklearn.ensemble import RandomForestRegressor\n",
    "from sklearn.model_selection import cross_validate\n",
    "\n",
    "def objective_rf(trial):\n",
    "    n_estimators = trial.suggest_int(\"n_estimators\", 100, 1000)\n",
    "    min_samples_leaf = trial.suggest_int(\"min_samples_leaf\", 1, 30)\n",
    "    max_samples = trial.suggest_float(\"max_samples\", 0.01, 1.0)\n",
    "    max_features = trial.suggest_float(\"max_features\", 0.01, 1.0)\n",
    "    \n",
    "    model = RandomForestRegressor(\n",
    "        n_estimators = n_estimators,\n",
    "        min_samples_leaf = min_samples_leaf,\n",
    "        max_samples = max_samples,\n",
    "        max_features = max_features,\n",
    "        n_jobs = 1, \n",
    "        random_state = 42)\n",
    "    \n",
    "    #Use 10 way cross validation for training.\n",
    "    score = cross_validate(model, guide_RNA_one_hot_encoded_sequences, k_values, cv = 10, scoring = 'r2')\n",
    "    score_mean = np.mean(score['test_score'])\n",
    "    return(score_mean)\n",
    "    \n",
    "study = optuna.create_study(direction = 'maximize')\n",
    "study.optimize(objective_rf, n_trials=100) \n",
    "rf_gRNA = study.best_value"
   ]
  },
  {
   "cell_type": "code",
   "execution_count": null,
   "id": "4e0d2ced-e72e-4cf8-9383-e7c94487021f",
   "metadata": {},
   "outputs": [],
   "source": [
    "def optimize_rf(trial, x, y):\n",
    "    \n",
    "    n_estimators = trial.suggest_int(\"n_estimators\", 100, 1000)\n",
    "    min_samples_leaf = trial.suggest_int(\"min_samples_leaf\", 1, 30)\n",
    "    max_samples = trial.suggest_uniform(\"max_samples\", 0.01, 1.0)\n",
    "    max_features = trial.suggest_uniform(\"max_features\", 0.01, 1.0)\n",
    "    \n",
    "    model = ensemble.RandomForestRegressor(\n",
    "        n_estimators = n_estimators,\n",
    "        min_samples_leaf = min_samples_leaf,\n",
    "        max_samples = max_samples,\n",
    "        max_features = max_features, \n",
    "        random_state = 42)\n",
    "  \n",
    "    score = cross_validate(model, x, y, n_jobs = 1, cv = 3, scoring = 'neg_mean_squared_error')\n",
    "        \n",
    "    return np.mean(score)"
   ]
  }
 ],
 "metadata": {
  "kernelspec": {
   "display_name": "Python 3 (ipykernel)",
   "language": "python",
   "name": "python3"
  },
  "language_info": {
   "codemirror_mode": {
    "name": "ipython",
    "version": 3
   },
   "file_extension": ".py",
   "mimetype": "text/x-python",
   "name": "python",
   "nbconvert_exporter": "python",
   "pygments_lexer": "ipython3",
   "version": "3.9.12"
  }
 },
 "nbformat": 4,
 "nbformat_minor": 5
}
